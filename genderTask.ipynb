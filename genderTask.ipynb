{
 "cells": [
  {
   "cell_type": "code",
   "execution_count": 1,
   "id": "disciplinary-calvin",
   "metadata": {},
   "outputs": [],
   "source": [
    "import pandas as pd"
   ]
  },
  {
   "cell_type": "code",
   "execution_count": 2,
   "id": "knowing-female",
   "metadata": {},
   "outputs": [],
   "source": [
    "data = pd.read_csv(\"g.csv\")\n"
   ]
  },
  {
   "cell_type": "code",
   "execution_count": 3,
   "id": "standing-equality",
   "metadata": {},
   "outputs": [
    {
     "data": {
      "text/html": [
       "<div>\n",
       "<style scoped>\n",
       "    .dataframe tbody tr th:only-of-type {\n",
       "        vertical-align: middle;\n",
       "    }\n",
       "\n",
       "    .dataframe tbody tr th {\n",
       "        vertical-align: top;\n",
       "    }\n",
       "\n",
       "    .dataframe thead th {\n",
       "        text-align: right;\n",
       "    }\n",
       "</style>\n",
       "<table border=\"1\" class=\"dataframe\">\n",
       "  <thead>\n",
       "    <tr style=\"text-align: right;\">\n",
       "      <th></th>\n",
       "      <th>long_hair</th>\n",
       "      <th>forehead_height_cm</th>\n",
       "      <th>forehead_width_conventional_units</th>\n",
       "      <th>nose_wide</th>\n",
       "      <th>nose_long</th>\n",
       "      <th>lips_thin</th>\n",
       "      <th>distance_nose_to_lip_long</th>\n",
       "      <th>gender</th>\n",
       "      <th>long_hair.1</th>\n",
       "      <th>forehead_height_cm.1</th>\n",
       "      <th>forehead_width_conventional_units.1</th>\n",
       "      <th>nose_wide.1</th>\n",
       "      <th>nose_long.1</th>\n",
       "      <th>lips_thin.1</th>\n",
       "      <th>distance_nose_to_lip_long.1</th>\n",
       "      <th>gender.1</th>\n",
       "    </tr>\n",
       "  </thead>\n",
       "  <tbody>\n",
       "    <tr>\n",
       "      <th>0</th>\n",
       "      <td>0.704275</td>\n",
       "      <td>6.1</td>\n",
       "      <td>0.025806</td>\n",
       "      <td>0.895614</td>\n",
       "      <td>0.477485</td>\n",
       "      <td>0.841261</td>\n",
       "      <td>0.902628</td>\n",
       "      <td>NaN</td>\n",
       "      <td>0.818018</td>\n",
       "      <td>5.8</td>\n",
       "      <td>0.006452</td>\n",
       "      <td>0.137806</td>\n",
       "      <td>0.402620</td>\n",
       "      <td>0.167844</td>\n",
       "      <td>0.188913</td>\n",
       "      <td>Female</td>\n",
       "    </tr>\n",
       "    <tr>\n",
       "      <th>1</th>\n",
       "      <td>0.118690</td>\n",
       "      <td>5.4</td>\n",
       "      <td>0.167742</td>\n",
       "      <td>0.202520</td>\n",
       "      <td>0.186825</td>\n",
       "      <td>0.719697</td>\n",
       "      <td>0.309122</td>\n",
       "      <td>NaN</td>\n",
       "      <td>0.995941</td>\n",
       "      <td>5.8</td>\n",
       "      <td>0.245161</td>\n",
       "      <td>0.570656</td>\n",
       "      <td>0.980237</td>\n",
       "      <td>0.811487</td>\n",
       "      <td>0.967540</td>\n",
       "      <td>Male</td>\n",
       "    </tr>\n",
       "    <tr>\n",
       "      <th>2</th>\n",
       "      <td>0.203894</td>\n",
       "      <td>6.3</td>\n",
       "      <td>0.025806</td>\n",
       "      <td>0.892793</td>\n",
       "      <td>0.723152</td>\n",
       "      <td>0.725821</td>\n",
       "      <td>0.720640</td>\n",
       "      <td>NaN</td>\n",
       "      <td>0.633806</td>\n",
       "      <td>5.7</td>\n",
       "      <td>0.258065</td>\n",
       "      <td>0.709777</td>\n",
       "      <td>0.365825</td>\n",
       "      <td>0.933026</td>\n",
       "      <td>0.646992</td>\n",
       "      <td>Male</td>\n",
       "    </tr>\n",
       "    <tr>\n",
       "      <th>3</th>\n",
       "      <td>0.386228</td>\n",
       "      <td>6.1</td>\n",
       "      <td>0.193548</td>\n",
       "      <td>0.024963</td>\n",
       "      <td>0.562005</td>\n",
       "      <td>0.831515</td>\n",
       "      <td>0.770379</td>\n",
       "      <td>NaN</td>\n",
       "      <td>0.795792</td>\n",
       "      <td>6.9</td>\n",
       "      <td>0.103226</td>\n",
       "      <td>0.883454</td>\n",
       "      <td>0.399733</td>\n",
       "      <td>0.595028</td>\n",
       "      <td>0.822491</td>\n",
       "      <td>Male</td>\n",
       "    </tr>\n",
       "    <tr>\n",
       "      <th>4</th>\n",
       "      <td>0.564020</td>\n",
       "      <td>5.9</td>\n",
       "      <td>0.135484</td>\n",
       "      <td>0.415389</td>\n",
       "      <td>0.063705</td>\n",
       "      <td>0.211584</td>\n",
       "      <td>0.157217</td>\n",
       "      <td>NaN</td>\n",
       "      <td>0.915185</td>\n",
       "      <td>5.8</td>\n",
       "      <td>0.180645</td>\n",
       "      <td>0.652973</td>\n",
       "      <td>0.735543</td>\n",
       "      <td>0.553571</td>\n",
       "      <td>0.532910</td>\n",
       "      <td>Male</td>\n",
       "    </tr>\n",
       "    <tr>\n",
       "      <th>5</th>\n",
       "      <td>0.646973</td>\n",
       "      <td>6.8</td>\n",
       "      <td>0.103226</td>\n",
       "      <td>0.738749</td>\n",
       "      <td>0.597809</td>\n",
       "      <td>0.952223</td>\n",
       "      <td>0.503269</td>\n",
       "      <td>NaN</td>\n",
       "      <td>0.276974</td>\n",
       "      <td>6.0</td>\n",
       "      <td>0.258065</td>\n",
       "      <td>0.834923</td>\n",
       "      <td>0.662528</td>\n",
       "      <td>0.737746</td>\n",
       "      <td>0.609183</td>\n",
       "      <td>Male</td>\n",
       "    </tr>\n",
       "    <tr>\n",
       "      <th>6</th>\n",
       "      <td>0.895392</td>\n",
       "      <td>6.2</td>\n",
       "      <td>0.251613</td>\n",
       "      <td>0.705823</td>\n",
       "      <td>0.624308</td>\n",
       "      <td>0.833134</td>\n",
       "      <td>0.463085</td>\n",
       "      <td>NaN</td>\n",
       "      <td>0.975623</td>\n",
       "      <td>5.3</td>\n",
       "      <td>0.122581</td>\n",
       "      <td>0.969210</td>\n",
       "      <td>0.913155</td>\n",
       "      <td>0.532574</td>\n",
       "      <td>0.665786</td>\n",
       "      <td>Male</td>\n",
       "    </tr>\n",
       "    <tr>\n",
       "      <th>7</th>\n",
       "      <td>0.179423</td>\n",
       "      <td>5.2</td>\n",
       "      <td>0.103226</td>\n",
       "      <td>0.040147</td>\n",
       "      <td>0.115259</td>\n",
       "      <td>0.201522</td>\n",
       "      <td>0.357920</td>\n",
       "      <td>NaN</td>\n",
       "      <td>0.573617</td>\n",
       "      <td>6.2</td>\n",
       "      <td>0.051613</td>\n",
       "      <td>0.327670</td>\n",
       "      <td>0.753309</td>\n",
       "      <td>0.225385</td>\n",
       "      <td>0.113244</td>\n",
       "      <td>Female</td>\n",
       "    </tr>\n",
       "    <tr>\n",
       "      <th>8</th>\n",
       "      <td>0.944496</td>\n",
       "      <td>5.4</td>\n",
       "      <td>0.032258</td>\n",
       "      <td>0.564310</td>\n",
       "      <td>0.475925</td>\n",
       "      <td>0.912568</td>\n",
       "      <td>0.855026</td>\n",
       "      <td>NaN</td>\n",
       "      <td>0.278302</td>\n",
       "      <td>5.2</td>\n",
       "      <td>0.187097</td>\n",
       "      <td>0.475910</td>\n",
       "      <td>0.442422</td>\n",
       "      <td>0.877996</td>\n",
       "      <td>0.032918</td>\n",
       "      <td>Female</td>\n",
       "    </tr>\n",
       "    <tr>\n",
       "      <th>9</th>\n",
       "      <td>0.749438</td>\n",
       "      <td>5.4</td>\n",
       "      <td>0.045161</td>\n",
       "      <td>0.488745</td>\n",
       "      <td>0.339083</td>\n",
       "      <td>0.368454</td>\n",
       "      <td>0.492626</td>\n",
       "      <td>NaN</td>\n",
       "      <td>0.937870</td>\n",
       "      <td>5.4</td>\n",
       "      <td>0.187097</td>\n",
       "      <td>0.034814</td>\n",
       "      <td>0.298254</td>\n",
       "      <td>0.224508</td>\n",
       "      <td>0.338476</td>\n",
       "      <td>Female</td>\n",
       "    </tr>\n",
       "  </tbody>\n",
       "</table>\n",
       "</div>"
      ],
      "text/plain": [
       "   long_hair  forehead_height_cm  forehead_width_conventional_units  \\\n",
       "0   0.704275                 6.1                           0.025806   \n",
       "1   0.118690                 5.4                           0.167742   \n",
       "2   0.203894                 6.3                           0.025806   \n",
       "3   0.386228                 6.1                           0.193548   \n",
       "4   0.564020                 5.9                           0.135484   \n",
       "5   0.646973                 6.8                           0.103226   \n",
       "6   0.895392                 6.2                           0.251613   \n",
       "7   0.179423                 5.2                           0.103226   \n",
       "8   0.944496                 5.4                           0.032258   \n",
       "9   0.749438                 5.4                           0.045161   \n",
       "\n",
       "   nose_wide  nose_long  lips_thin  distance_nose_to_lip_long gender  \\\n",
       "0   0.895614   0.477485   0.841261                   0.902628    NaN   \n",
       "1   0.202520   0.186825   0.719697                   0.309122    NaN   \n",
       "2   0.892793   0.723152   0.725821                   0.720640    NaN   \n",
       "3   0.024963   0.562005   0.831515                   0.770379    NaN   \n",
       "4   0.415389   0.063705   0.211584                   0.157217    NaN   \n",
       "5   0.738749   0.597809   0.952223                   0.503269    NaN   \n",
       "6   0.705823   0.624308   0.833134                   0.463085    NaN   \n",
       "7   0.040147   0.115259   0.201522                   0.357920    NaN   \n",
       "8   0.564310   0.475925   0.912568                   0.855026    NaN   \n",
       "9   0.488745   0.339083   0.368454                   0.492626    NaN   \n",
       "\n",
       "   long_hair.1  forehead_height_cm.1  forehead_width_conventional_units.1  \\\n",
       "0     0.818018                   5.8                             0.006452   \n",
       "1     0.995941                   5.8                             0.245161   \n",
       "2     0.633806                   5.7                             0.258065   \n",
       "3     0.795792                   6.9                             0.103226   \n",
       "4     0.915185                   5.8                             0.180645   \n",
       "5     0.276974                   6.0                             0.258065   \n",
       "6     0.975623                   5.3                             0.122581   \n",
       "7     0.573617                   6.2                             0.051613   \n",
       "8     0.278302                   5.2                             0.187097   \n",
       "9     0.937870                   5.4                             0.187097   \n",
       "\n",
       "   nose_wide.1  nose_long.1  lips_thin.1  distance_nose_to_lip_long.1 gender.1  \n",
       "0     0.137806     0.402620     0.167844                     0.188913   Female  \n",
       "1     0.570656     0.980237     0.811487                     0.967540     Male  \n",
       "2     0.709777     0.365825     0.933026                     0.646992     Male  \n",
       "3     0.883454     0.399733     0.595028                     0.822491     Male  \n",
       "4     0.652973     0.735543     0.553571                     0.532910     Male  \n",
       "5     0.834923     0.662528     0.737746                     0.609183     Male  \n",
       "6     0.969210     0.913155     0.532574                     0.665786     Male  \n",
       "7     0.327670     0.753309     0.225385                     0.113244   Female  \n",
       "8     0.475910     0.442422     0.877996                     0.032918   Female  \n",
       "9     0.034814     0.298254     0.224508                     0.338476   Female  "
      ]
     },
     "execution_count": 3,
     "metadata": {},
     "output_type": "execute_result"
    }
   ],
   "source": [
    "data = data.drop(columns = [\"Unnamed: 0\", \"index\", \"index.1\",\"forehead_width_cm\", \"forehead_width_cm.1\", \"forehead_width_mm\", \"forehead_width_mm.1\"])\n",
    "data.head(10)"
   ]
  },
  {
   "cell_type": "code",
   "execution_count": 19,
   "id": "serial-chess",
   "metadata": {},
   "outputs": [
    {
     "data": {
      "text/plain": [
       "0.8128742924254446"
      ]
     },
     "execution_count": 19,
     "metadata": {},
     "output_type": "execute_result"
    }
   ],
   "source": [
    "data[\"long_hair.1\"][514]"
   ]
  },
  {
   "cell_type": "code",
   "execution_count": 15,
   "id": "returning-airport",
   "metadata": {},
   "outputs": [
    {
     "name": "stdout",
     "output_type": "stream",
     "text": [
      "485\n",
      "486\n",
      "487\n",
      "488\n",
      "489\n",
      "490\n",
      "491\n",
      "492\n",
      "493\n",
      "494\n",
      "495\n",
      "496\n",
      "497\n",
      "498\n",
      "499\n",
      "500\n",
      "501\n",
      "502\n",
      "503\n",
      "504\n",
      "505\n",
      "506\n",
      "507\n",
      "508\n",
      "509\n",
      "510\n",
      "511\n",
      "512\n",
      "513\n"
     ]
    }
   ],
   "source": [
    "for i in range (0,2515):\n",
    "    if(pd.isnull(data[\"gender.1\"][i])):\n",
    "       print(i)"
   ]
  },
  {
   "cell_type": "code",
   "execution_count": 21,
   "id": "related-gabriel",
   "metadata": {},
   "outputs": [],
   "source": [
    "dataCopy = data.drop(columns=[\"long_hair\",\"forehead_height_cm\",\"forehead_width_conventional_units\",\"nose_wide\",\"nose_long\",\"lips_thin\",\"distance_nose_to_lip_long\",\"gender\"])"
   ]
  },
  {
   "cell_type": "code",
   "execution_count": 20,
   "id": "clinical-appreciation",
   "metadata": {},
   "outputs": [],
   "source": [
    "\n",
    "\n",
    "dataOriginal = data[[\"long_hair\",\"forehead_height_cm\",\"forehead_width_conventional_units\",\"nose_wide\",\"nose_long\",\"lips_thin\",\"distance_nose_to_lip_long\",\"gender\"]].copy()\n",
    "                                    \n",
    "                                    "
   ]
  },
  {
   "cell_type": "code",
   "execution_count": 22,
   "id": "improved-finnish",
   "metadata": {},
   "outputs": [
    {
     "data": {
      "text/html": [
       "<div>\n",
       "<style scoped>\n",
       "    .dataframe tbody tr th:only-of-type {\n",
       "        vertical-align: middle;\n",
       "    }\n",
       "\n",
       "    .dataframe tbody tr th {\n",
       "        vertical-align: top;\n",
       "    }\n",
       "\n",
       "    .dataframe thead th {\n",
       "        text-align: right;\n",
       "    }\n",
       "</style>\n",
       "<table border=\"1\" class=\"dataframe\">\n",
       "  <thead>\n",
       "    <tr style=\"text-align: right;\">\n",
       "      <th></th>\n",
       "      <th>long_hair</th>\n",
       "      <th>forehead_height_cm</th>\n",
       "      <th>forehead_width_conventional_units</th>\n",
       "      <th>nose_wide</th>\n",
       "      <th>nose_long</th>\n",
       "      <th>lips_thin</th>\n",
       "      <th>distance_nose_to_lip_long</th>\n",
       "      <th>gender</th>\n",
       "    </tr>\n",
       "  </thead>\n",
       "  <tbody>\n",
       "    <tr>\n",
       "      <th>0</th>\n",
       "      <td>0.704275</td>\n",
       "      <td>6.1</td>\n",
       "      <td>0.025806</td>\n",
       "      <td>0.895614</td>\n",
       "      <td>0.477485</td>\n",
       "      <td>0.841261</td>\n",
       "      <td>0.902628</td>\n",
       "      <td>NaN</td>\n",
       "    </tr>\n",
       "    <tr>\n",
       "      <th>1</th>\n",
       "      <td>0.118690</td>\n",
       "      <td>5.4</td>\n",
       "      <td>0.167742</td>\n",
       "      <td>0.202520</td>\n",
       "      <td>0.186825</td>\n",
       "      <td>0.719697</td>\n",
       "      <td>0.309122</td>\n",
       "      <td>NaN</td>\n",
       "    </tr>\n",
       "    <tr>\n",
       "      <th>2</th>\n",
       "      <td>0.203894</td>\n",
       "      <td>6.3</td>\n",
       "      <td>0.025806</td>\n",
       "      <td>0.892793</td>\n",
       "      <td>0.723152</td>\n",
       "      <td>0.725821</td>\n",
       "      <td>0.720640</td>\n",
       "      <td>NaN</td>\n",
       "    </tr>\n",
       "    <tr>\n",
       "      <th>3</th>\n",
       "      <td>0.386228</td>\n",
       "      <td>6.1</td>\n",
       "      <td>0.193548</td>\n",
       "      <td>0.024963</td>\n",
       "      <td>0.562005</td>\n",
       "      <td>0.831515</td>\n",
       "      <td>0.770379</td>\n",
       "      <td>NaN</td>\n",
       "    </tr>\n",
       "    <tr>\n",
       "      <th>4</th>\n",
       "      <td>0.564020</td>\n",
       "      <td>5.9</td>\n",
       "      <td>0.135484</td>\n",
       "      <td>0.415389</td>\n",
       "      <td>0.063705</td>\n",
       "      <td>0.211584</td>\n",
       "      <td>0.157217</td>\n",
       "      <td>NaN</td>\n",
       "    </tr>\n",
       "    <tr>\n",
       "      <th>5</th>\n",
       "      <td>0.646973</td>\n",
       "      <td>6.8</td>\n",
       "      <td>0.103226</td>\n",
       "      <td>0.738749</td>\n",
       "      <td>0.597809</td>\n",
       "      <td>0.952223</td>\n",
       "      <td>0.503269</td>\n",
       "      <td>NaN</td>\n",
       "    </tr>\n",
       "    <tr>\n",
       "      <th>6</th>\n",
       "      <td>0.895392</td>\n",
       "      <td>6.2</td>\n",
       "      <td>0.251613</td>\n",
       "      <td>0.705823</td>\n",
       "      <td>0.624308</td>\n",
       "      <td>0.833134</td>\n",
       "      <td>0.463085</td>\n",
       "      <td>NaN</td>\n",
       "    </tr>\n",
       "    <tr>\n",
       "      <th>7</th>\n",
       "      <td>0.179423</td>\n",
       "      <td>5.2</td>\n",
       "      <td>0.103226</td>\n",
       "      <td>0.040147</td>\n",
       "      <td>0.115259</td>\n",
       "      <td>0.201522</td>\n",
       "      <td>0.357920</td>\n",
       "      <td>NaN</td>\n",
       "    </tr>\n",
       "    <tr>\n",
       "      <th>8</th>\n",
       "      <td>0.944496</td>\n",
       "      <td>5.4</td>\n",
       "      <td>0.032258</td>\n",
       "      <td>0.564310</td>\n",
       "      <td>0.475925</td>\n",
       "      <td>0.912568</td>\n",
       "      <td>0.855026</td>\n",
       "      <td>NaN</td>\n",
       "    </tr>\n",
       "    <tr>\n",
       "      <th>9</th>\n",
       "      <td>0.749438</td>\n",
       "      <td>5.4</td>\n",
       "      <td>0.045161</td>\n",
       "      <td>0.488745</td>\n",
       "      <td>0.339083</td>\n",
       "      <td>0.368454</td>\n",
       "      <td>0.492626</td>\n",
       "      <td>NaN</td>\n",
       "    </tr>\n",
       "  </tbody>\n",
       "</table>\n",
       "</div>"
      ],
      "text/plain": [
       "   long_hair  forehead_height_cm  forehead_width_conventional_units  \\\n",
       "0   0.704275                 6.1                           0.025806   \n",
       "1   0.118690                 5.4                           0.167742   \n",
       "2   0.203894                 6.3                           0.025806   \n",
       "3   0.386228                 6.1                           0.193548   \n",
       "4   0.564020                 5.9                           0.135484   \n",
       "5   0.646973                 6.8                           0.103226   \n",
       "6   0.895392                 6.2                           0.251613   \n",
       "7   0.179423                 5.2                           0.103226   \n",
       "8   0.944496                 5.4                           0.032258   \n",
       "9   0.749438                 5.4                           0.045161   \n",
       "\n",
       "   nose_wide  nose_long  lips_thin  distance_nose_to_lip_long gender  \n",
       "0   0.895614   0.477485   0.841261                   0.902628    NaN  \n",
       "1   0.202520   0.186825   0.719697                   0.309122    NaN  \n",
       "2   0.892793   0.723152   0.725821                   0.720640    NaN  \n",
       "3   0.024963   0.562005   0.831515                   0.770379    NaN  \n",
       "4   0.415389   0.063705   0.211584                   0.157217    NaN  \n",
       "5   0.738749   0.597809   0.952223                   0.503269    NaN  \n",
       "6   0.705823   0.624308   0.833134                   0.463085    NaN  \n",
       "7   0.040147   0.115259   0.201522                   0.357920    NaN  \n",
       "8   0.564310   0.475925   0.912568                   0.855026    NaN  \n",
       "9   0.488745   0.339083   0.368454                   0.492626    NaN  "
      ]
     },
     "execution_count": 22,
     "metadata": {},
     "output_type": "execute_result"
    }
   ],
   "source": [
    "dataOriginal.head(10)"
   ]
  },
  {
   "cell_type": "code",
   "execution_count": 27,
   "id": "numeric-cancellation",
   "metadata": {},
   "outputs": [],
   "source": [
    "dataCopy = dataCopy.rename(columns ={\"long_hair.1\":\"long_hair\",\"forehead_height_cm.1\":\"forehead_height_cm\",\"forehead_width_conventional_units.1\":\"forehead_width_conventional_units\",\"nose_wide.1\":\"nose_wide\",\"nose_long.1\":\"nose_long\",\"lips_thin.1\":\"lips_thin\",\"distance_nose_to_lip_long.1\":\"distance_nose_to_lip_long\",\"gender.1\":\"gender\"})\n"
   ]
  },
  {
   "cell_type": "code",
   "execution_count": 29,
   "id": "democratic-diameter",
   "metadata": {},
   "outputs": [],
   "source": [
    "data1 = pd.concat([dataOriginal,dataCopy])"
   ]
  },
  {
   "cell_type": "code",
   "execution_count": 63,
   "id": "curious-conditioning",
   "metadata": {},
   "outputs": [
    {
     "data": {
      "text/plain": [
       "(5001, 8)"
      ]
     },
     "execution_count": 63,
     "metadata": {},
     "output_type": "execute_result"
    }
   ],
   "source": [
    "data1.shape"
   ]
  },
  {
   "cell_type": "code",
   "execution_count": 56,
   "id": "atmospheric-constitution",
   "metadata": {},
   "outputs": [],
   "source": [
    "dataPred = data1.iloc[0:1001]"
   ]
  },
  {
   "cell_type": "code",
   "execution_count": 71,
   "id": "still-cisco",
   "metadata": {},
   "outputs": [],
   "source": [
    "dataPred = dataPred.drop(columns=[\"gender\"])"
   ]
  },
  {
   "cell_type": "code",
   "execution_count": 77,
   "id": "pointed-bottle",
   "metadata": {},
   "outputs": [
    {
     "name": "stderr",
     "output_type": "stream",
     "text": [
      "<ipython-input-77-dc9a98320636>:2: SettingWithCopyWarning: \n",
      "A value is trying to be set on a copy of a slice from a DataFrame.\n",
      "Try using .loc[row_indexer,col_indexer] = value instead\n",
      "\n",
      "See the caveats in the documentation: https://pandas.pydata.org/pandas-docs/stable/user_guide/indexing.html#returning-a-view-versus-a-copy\n",
      "  dataEt[colname], _ = dataEt[colname].factorize()\n"
     ]
    }
   ],
   "source": [
    "for colname in dataEt.select_dtypes(\"object\"):\n",
    "    dataEt[colname], _ = dataEt[colname].factorize()"
   ]
  },
  {
   "cell_type": "code",
   "execution_count": 64,
   "id": "consolidated-familiar",
   "metadata": {},
   "outputs": [],
   "source": [
    "dataEt = data1.iloc[1002:5002]"
   ]
  },
  {
   "cell_type": "code",
   "execution_count": 88,
   "id": "understood-delay",
   "metadata": {},
   "outputs": [],
   "source": [
    "dataPred[\"forehead_height_cm\"] = dataPred[\"forehead_height_cm\"] / dataPred[\"forehead_height_cm\"].max()"
   ]
  },
  {
   "cell_type": "code",
   "execution_count": 97,
   "id": "ranking-comparative",
   "metadata": {},
   "outputs": [
    {
     "data": {
      "text/plain": [
       "1    2006\n",
       "0    1993\n",
       "Name: gender, dtype: int64"
      ]
     },
     "execution_count": 97,
     "metadata": {},
     "output_type": "execute_result"
    }
   ],
   "source": [
    "gen.value_counts()"
   ]
  },
  {
   "cell_type": "code",
   "execution_count": 92,
   "id": "creative-bicycle",
   "metadata": {},
   "outputs": [],
   "source": [
    "gen = dataEt.pop(\"gender\")"
   ]
  },
  {
   "cell_type": "code",
   "execution_count": 101,
   "id": "discrete-oklahoma",
   "metadata": {},
   "outputs": [
    {
     "data": {
      "text/plain": [
       "(3999,)"
      ]
     },
     "execution_count": 101,
     "metadata": {},
     "output_type": "execute_result"
    }
   ],
   "source": [
    "gen.shape"
   ]
  },
  {
   "cell_type": "code",
   "execution_count": 102,
   "id": "excited-potato",
   "metadata": {},
   "outputs": [
    {
     "name": "stdout",
     "output_type": "stream",
     "text": [
      "[0 1 0 ... 0 0 0]\n"
     ]
    },
    {
     "name": "stderr",
     "output_type": "stream",
     "text": [
      "/Library/Frameworks/Python.framework/Versions/3.8/lib/python3.8/site-packages/xgboost/data.py:112: UserWarning: Use subset (sliced data) of np.ndarray is not recommended because it will generate extra copies and increase memory consumption\n",
      "  warnings.warn(\n"
     ]
    }
   ],
   "source": [
    "from sklearn.model_selection import train_test_split\n",
    "from xgboost import XGBClassifier\n",
    "from sklearn.metrics import classification_report\n",
    "import numpy as np\n",
    "\n",
    "#x_train, x_test, y_train, y_test = train_test_split(dataEt, gen, test_size=0.3, stratify=gen)\n",
    "clf = XGBClassifier(objective = 'binary:logistic',\n",
    "                    gamma = 0.05,\n",
    "                    colsample_bytree = 0.5, \n",
    "                    eval_metric = 'auc',\n",
    "                    n_estimators = 100,         \n",
    "                    max_depth = 8,\n",
    "                    min_child_weight = 2, \n",
    "                    learning_rate = 0.02,\n",
    "                    subsample = 0.8,\n",
    "                    n_jobs = -1,\n",
    "                    silent = False,\n",
    "                    verbosity = 0,\n",
    "                    use_label_encoder=False)   \n",
    "\n",
    "clf.fit(dataEt, gen)\n",
    "y_pred = clf.predict(dataPred)\n",
    "#y_testC = np.int64(np.ravel(y_test))\n",
    "print(y_pred)"
   ]
  },
  {
   "cell_type": "code",
   "execution_count": 109,
   "id": "sufficient-victorian",
   "metadata": {},
   "outputs": [],
   "source": [
    "y = []\n",
    "for i in range(0,1001):\n",
    "    if y_pred[i] == 1:\n",
    "        y.append(\"Female\")\n",
    "    else:\n",
    "        y.append(\"Male\")"
   ]
  },
  {
   "cell_type": "code",
   "execution_count": 110,
   "id": "hairy-ready",
   "metadata": {},
   "outputs": [
    {
     "name": "stdout",
     "output_type": "stream",
     "text": [
      "['Male', 'Female', 'Male', 'Male', 'Female', 'Male', 'Male', 'Female', 'Male', 'Female', 'Male', 'Male', 'Male', 'Male', 'Female', 'Male', 'Male', 'Female', 'Female', 'Male', 'Male', 'Male', 'Female', 'Male', 'Female', 'Female', 'Female', 'Female', 'Male', 'Male', 'Male', 'Male', 'Female', 'Female', 'Male', 'Male', 'Female', 'Female', 'Female', 'Male', 'Female', 'Male', 'Male', 'Female', 'Male', 'Male', 'Female', 'Female', 'Female', 'Female', 'Male', 'Female', 'Female', 'Female', 'Male', 'Female', 'Male', 'Male', 'Male', 'Female', 'Female', 'Male', 'Male', 'Male', 'Female', 'Female', 'Female', 'Female', 'Female', 'Female', 'Female', 'Male', 'Male', 'Male', 'Female', 'Female', 'Female', 'Male', 'Male', 'Male', 'Female', 'Female', 'Male', 'Female', 'Female', 'Male', 'Male', 'Female', 'Female', 'Male', 'Female', 'Female', 'Male', 'Female', 'Male', 'Male', 'Male', 'Male', 'Female', 'Female', 'Male', 'Male', 'Male', 'Male', 'Male', 'Male', 'Male', 'Male', 'Male', 'Female', 'Male', 'Female', 'Male', 'Male', 'Female', 'Female', 'Female', 'Female', 'Male', 'Male', 'Female', 'Female', 'Female', 'Male', 'Male', 'Female', 'Male', 'Male', 'Female', 'Female', 'Male', 'Female', 'Male', 'Female', 'Female', 'Female', 'Male', 'Female', 'Male', 'Male', 'Female', 'Male', 'Female', 'Female', 'Male', 'Female', 'Male', 'Male', 'Female', 'Male', 'Male', 'Female', 'Male', 'Male', 'Female', 'Female', 'Male', 'Female', 'Male', 'Male', 'Female', 'Male', 'Male', 'Male', 'Male', 'Female', 'Male', 'Male', 'Female', 'Male', 'Female', 'Female', 'Male', 'Male', 'Female', 'Male', 'Female', 'Male', 'Male', 'Female', 'Female', 'Male', 'Male', 'Female', 'Male', 'Female', 'Male', 'Male', 'Female', 'Male', 'Female', 'Female', 'Male', 'Female', 'Male', 'Female', 'Male', 'Female', 'Female', 'Female', 'Male', 'Female', 'Female', 'Female', 'Female', 'Male', 'Male', 'Male', 'Female', 'Female', 'Female', 'Female', 'Female', 'Male', 'Male', 'Male', 'Female', 'Female', 'Male', 'Female', 'Female', 'Male', 'Female', 'Female', 'Male', 'Male', 'Male', 'Male', 'Female', 'Male', 'Female', 'Male', 'Female', 'Female', 'Male', 'Male', 'Male', 'Male', 'Male', 'Female', 'Male', 'Male', 'Female', 'Male', 'Male', 'Female', 'Female', 'Female', 'Male', 'Male', 'Female', 'Female', 'Male', 'Male', 'Female', 'Male', 'Female', 'Female', 'Male', 'Female', 'Female', 'Male', 'Male', 'Male', 'Female', 'Male', 'Female', 'Male', 'Male', 'Female', 'Male', 'Female', 'Female', 'Male', 'Male', 'Female', 'Female', 'Female', 'Female', 'Male', 'Male', 'Female', 'Male', 'Female', 'Female', 'Female', 'Male', 'Male', 'Female', 'Female', 'Male', 'Female', 'Male', 'Female', 'Male', 'Female', 'Male', 'Male', 'Male', 'Male', 'Male', 'Male', 'Male', 'Female', 'Female', 'Male', 'Male', 'Male', 'Male', 'Female', 'Female', 'Female', 'Female', 'Female', 'Male', 'Female', 'Male', 'Male', 'Female', 'Female', 'Female', 'Male', 'Female', 'Female', 'Female', 'Female', 'Female', 'Female', 'Female', 'Female', 'Male', 'Male', 'Male', 'Female', 'Male', 'Male', 'Male', 'Male', 'Male', 'Female', 'Female', 'Female', 'Female', 'Male', 'Male', 'Female', 'Female', 'Female', 'Male', 'Male', 'Female', 'Male', 'Female', 'Male', 'Female', 'Male', 'Female', 'Male', 'Female', 'Male', 'Female', 'Female', 'Female', 'Female', 'Male', 'Female', 'Male', 'Female', 'Male', 'Female', 'Male', 'Female', 'Female', 'Female', 'Female', 'Female', 'Male', 'Female', 'Male', 'Male', 'Male', 'Male', 'Female', 'Female', 'Male', 'Female', 'Male', 'Male', 'Male', 'Female', 'Female', 'Male', 'Male', 'Female', 'Female', 'Male', 'Male', 'Male', 'Female', 'Female', 'Female', 'Female', 'Male', 'Male', 'Male', 'Female', 'Male', 'Male', 'Female', 'Female', 'Male', 'Female', 'Female', 'Female', 'Male', 'Male', 'Male', 'Female', 'Male', 'Female', 'Female', 'Male', 'Female', 'Female', 'Male', 'Male', 'Female', 'Male', 'Female', 'Female', 'Female', 'Male', 'Female', 'Male', 'Female', 'Female', 'Male', 'Female', 'Male', 'Female', 'Female', 'Male', 'Male', 'Male', 'Female', 'Female', 'Male', 'Female', 'Female', 'Male', 'Female', 'Male', 'Female', 'Female', 'Female', 'Female', 'Male', 'Male', 'Female', 'Male', 'Male', 'Male', 'Female', 'Female', 'Female', 'Male', 'Female', 'Male', 'Male', 'Female', 'Male', 'Male', 'Male', 'Female', 'Female', 'Male', 'Male', 'Female', 'Female', 'Male', 'Male', 'Female', 'Female', 'Female', 'Female', 'Male', 'Female', 'Male', 'Female', 'Male', 'Male', 'Male', 'Female', 'Male', 'Male', 'Male', 'Female', 'Male', 'Male', 'Female', 'Female', 'Male', 'Male', 'Female', 'Male', 'Female', 'Female', 'Female', 'Female', 'Male', 'Male', 'Female', 'Female', 'Female', 'Male', 'Female', 'Female', 'Female', 'Male', 'Female', 'Female', 'Male', 'Female', 'Female', 'Female', 'Female', 'Female', 'Female', 'Male', 'Female', 'Male', 'Female', 'Female', 'Female', 'Female', 'Male', 'Male', 'Male', 'Male', 'Female', 'Male', 'Female', 'Male', 'Male', 'Male', 'Female', 'Female', 'Male', 'Male', 'Male', 'Male', 'Male', 'Male', 'Female', 'Male', 'Male', 'Male', 'Male', 'Female', 'Female', 'Male', 'Female', 'Female', 'Female', 'Female', 'Male', 'Male', 'Female', 'Female', 'Male', 'Male', 'Female', 'Female', 'Male', 'Male', 'Female', 'Male', 'Male', 'Male', 'Male', 'Female', 'Female', 'Male', 'Male', 'Female', 'Female', 'Female', 'Female', 'Female', 'Male', 'Male', 'Female', 'Male', 'Female', 'Male', 'Female', 'Female', 'Male', 'Female', 'Female', 'Female', 'Female', 'Female', 'Male', 'Female', 'Female', 'Male', 'Male', 'Female', 'Male', 'Female', 'Male', 'Female', 'Female', 'Male', 'Female', 'Male', 'Male', 'Male', 'Female', 'Female', 'Female', 'Female', 'Female', 'Female', 'Male', 'Male', 'Male', 'Female', 'Male', 'Male', 'Male', 'Female', 'Female', 'Female', 'Male', 'Female', 'Male', 'Female', 'Female', 'Female', 'Male', 'Male', 'Male', 'Male', 'Female', 'Male', 'Female', 'Female', 'Female', 'Male', 'Male', 'Female', 'Male', 'Male', 'Female', 'Male', 'Male', 'Male', 'Male', 'Female', 'Male', 'Male', 'Male', 'Male', 'Female', 'Male', 'Female', 'Male', 'Male', 'Male', 'Male', 'Female', 'Female', 'Male', 'Female', 'Female', 'Male', 'Female', 'Female', 'Female', 'Male', 'Male', 'Male', 'Female', 'Female', 'Female', 'Female', 'Female', 'Male', 'Female', 'Female', 'Female', 'Male', 'Male', 'Male', 'Female', 'Female', 'Male', 'Female', 'Male', 'Male', 'Female', 'Female', 'Female', 'Male', 'Male', 'Male', 'Male', 'Female', 'Male', 'Male', 'Female', 'Female', 'Female', 'Male', 'Male', 'Male', 'Male', 'Male', 'Male', 'Female', 'Male', 'Female', 'Male', 'Male', 'Male', 'Male', 'Male', 'Male', 'Female', 'Female', 'Female', 'Female', 'Male', 'Female', 'Female', 'Male', 'Male', 'Male', 'Male', 'Female', 'Male', 'Male', 'Female', 'Female', 'Female', 'Male', 'Female', 'Male', 'Female', 'Female', 'Female', 'Female', 'Female', 'Female', 'Male', 'Female', 'Male', 'Female', 'Female', 'Male', 'Female', 'Male', 'Male', 'Female', 'Male', 'Male', 'Male', 'Female', 'Female', 'Female', 'Female', 'Female', 'Male', 'Male', 'Female', 'Female', 'Male', 'Male', 'Female', 'Male', 'Female', 'Male', 'Female', 'Male', 'Male', 'Female', 'Female', 'Male', 'Female', 'Female', 'Female', 'Male', 'Male', 'Male', 'Male', 'Female', 'Female', 'Female', 'Female', 'Male', 'Male', 'Male', 'Female', 'Female', 'Male', 'Female', 'Female', 'Female', 'Female', 'Female', 'Female', 'Female', 'Male', 'Male', 'Female', 'Female', 'Female', 'Male', 'Male', 'Female', 'Female', 'Male', 'Female', 'Female', 'Female', 'Male', 'Female', 'Female', 'Female', 'Male', 'Female', 'Male', 'Male', 'Male', 'Female', 'Female', 'Male', 'Male', 'Male', 'Female', 'Female', 'Female', 'Male', 'Male', 'Male', 'Male', 'Female', 'Female', 'Female', 'Male', 'Female', 'Female', 'Male', 'Male', 'Male', 'Female', 'Male', 'Female', 'Female', 'Female', 'Female', 'Male', 'Male', 'Female', 'Female', 'Female', 'Male', 'Female', 'Female', 'Female', 'Female', 'Female', 'Male', 'Female', 'Male', 'Female', 'Male', 'Male', 'Male', 'Male', 'Male', 'Female', 'Female', 'Male', 'Female', 'Male', 'Male', 'Male', 'Male', 'Female', 'Male', 'Male', 'Female', 'Female', 'Male', 'Male', 'Female', 'Female', 'Female', 'Female', 'Female', 'Female', 'Male', 'Female', 'Male', 'Male', 'Female', 'Female', 'Male', 'Female', 'Female', 'Female', 'Female', 'Male', 'Male', 'Female', 'Female', 'Female', 'Male', 'Female', 'Male', 'Male', 'Male', 'Female', 'Female', 'Male', 'Male', 'Male', 'Female', 'Male', 'Male', 'Female', 'Male', 'Male', 'Male', 'Female', 'Female', 'Female', 'Female', 'Male', 'Male', 'Female', 'Female', 'Male', 'Male', 'Female', 'Female', 'Male', 'Female', 'Male', 'Male', 'Female', 'Female', 'Male', 'Female', 'Male', 'Male', 'Female', 'Male', 'Female', 'Female', 'Male', 'Male', 'Male', 'Male', 'Male', 'Female', 'Female', 'Female', 'Male', 'Male', 'Female', 'Female', 'Female', 'Female', 'Male', 'Male', 'Male', 'Male', 'Female', 'Female', 'Male', 'Male', 'Male', 'Male', 'Male', 'Male', 'Female', 'Female', 'Female', 'Female', 'Male', 'Female', 'Female', 'Female', 'Female', 'Male', 'Male', 'Male']\n"
     ]
    }
   ],
   "source": [
    "print(y)"
   ]
  },
  {
   "cell_type": "code",
   "execution_count": 111,
   "id": "synthetic-looking",
   "metadata": {},
   "outputs": [
    {
     "ename": "AttributeError",
     "evalue": "'list' object has no attribute 'to_csv'",
     "output_type": "error",
     "traceback": [
      "\u001b[0;31m---------------------------------------------------------------------------\u001b[0m",
      "\u001b[0;31mAttributeError\u001b[0m                            Traceback (most recent call last)",
      "\u001b[0;32m<ipython-input-111-f42bf6738bbb>\u001b[0m in \u001b[0;36m<module>\u001b[0;34m\u001b[0m\n\u001b[0;32m----> 1\u001b[0;31m \u001b[0my\u001b[0m\u001b[0;34m.\u001b[0m\u001b[0mto_csv\u001b[0m\u001b[0;34m(\u001b[0m\u001b[0;34m\"test.csv\"\u001b[0m\u001b[0;34m)\u001b[0m\u001b[0;34m\u001b[0m\u001b[0;34m\u001b[0m\u001b[0m\n\u001b[0m",
      "\u001b[0;31mAttributeError\u001b[0m: 'list' object has no attribute 'to_csv'"
     ]
    }
   ],
   "source": [
    "y.to_csv(\"test.csv\")"
   ]
  },
  {
   "cell_type": "code",
   "execution_count": 112,
   "id": "above-potter",
   "metadata": {},
   "outputs": [],
   "source": [
    "test = pd.Series(y)\n",
    "test.to_csv(\"test.csv\")"
   ]
  },
  {
   "cell_type": "code",
   "execution_count": 113,
   "id": "measured-growing",
   "metadata": {},
   "outputs": [
    {
     "data": {
      "text/plain": [
       "0      Male\n",
       "1    Female\n",
       "2      Male\n",
       "3      Male\n",
       "4    Female\n",
       "5      Male\n",
       "6      Male\n",
       "7    Female\n",
       "8      Male\n",
       "9    Female\n",
       "dtype: object"
      ]
     },
     "execution_count": 113,
     "metadata": {},
     "output_type": "execute_result"
    }
   ],
   "source": [
    "test.head(10)"
   ]
  },
  {
   "cell_type": "code",
   "execution_count": 114,
   "id": "tough-reconstruction",
   "metadata": {},
   "outputs": [],
   "source": [
    "test.to_csv(\"test1.csv\", header=False, index=False)"
   ]
  },
  {
   "cell_type": "code",
   "execution_count": null,
   "id": "stuck-stable",
   "metadata": {},
   "outputs": [],
   "source": []
  }
 ],
 "metadata": {
  "kernelspec": {
   "display_name": "Python 3",
   "language": "python",
   "name": "python3"
  },
  "language_info": {
   "codemirror_mode": {
    "name": "ipython",
    "version": 3
   },
   "file_extension": ".py",
   "mimetype": "text/x-python",
   "name": "python",
   "nbconvert_exporter": "python",
   "pygments_lexer": "ipython3",
   "version": "3.8.0"
  }
 },
 "nbformat": 4,
 "nbformat_minor": 5
}
